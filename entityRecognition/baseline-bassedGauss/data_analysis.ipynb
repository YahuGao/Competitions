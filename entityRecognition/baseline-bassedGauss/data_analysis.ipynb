{
 "cells": [
  {
   "cell_type": "code",
   "execution_count": null,
   "metadata": {},
   "outputs": [],
   "source": [
    "import os\n",
    "import codecs"
   ]
  },
  {
   "cell_type": "code",
   "execution_count": null,
   "metadata": {},
   "outputs": [],
   "source": []
  },
  {
   "cell_type": "code",
   "execution_count": null,
   "metadata": {},
   "outputs": [],
   "source": [
    "content_length = []\n",
    "for file in os.listdir('./round1_train/train'):\n",
    "    if not file.endswith(\".txt\"):  \n",
    "        pass\n",
    "    else:\n",
    "        with codecs.open('./round1_train/train/'+file, \"r\", encoding=\"utf-8\") as f:\n",
    "            content_str = f.read()\n",
    "            content_length.append(len(content_str))\n",
    "\n",
    "            "
   ]
  },
  {
   "cell_type": "code",
   "execution_count": null,
   "metadata": {},
   "outputs": [],
   "source": [
    "import numpy as np\n",
    "import pandas as pd"
   ]
  },
  {
   "cell_type": "code",
   "execution_count": null,
   "metadata": {},
   "outputs": [],
   "source": [
    "np.percentile(content_length,95)"
   ]
  },
  {
   "cell_type": "code",
   "execution_count": null,
   "metadata": {},
   "outputs": [],
   "source": [
    "content_length = pd.Series(content_length)"
   ]
  },
  {
   "cell_type": "code",
   "execution_count": null,
   "metadata": {},
   "outputs": [],
   "source": [
    "content_length[content_length>500].shape"
   ]
  },
  {
   "cell_type": "code",
   "execution_count": null,
   "metadata": {},
   "outputs": [],
   "source": [
    "import matplotlib.pyplot as plt\n",
    "import numpy as np\n",
    "import matplotlib\n",
    "\n",
    "# 设置matplotlib正常显示中文和负号\n",
    "matplotlib.rcParams['font.sans-serif']=['SimHei']   # 用黑体显示中文\n",
    "matplotlib.rcParams['axes.unicode_minus']=False     # 正常显示负号\n",
    "plt.figure(figsize=(10,5))\n",
    "plt.hist(content_length, bins=20, range=(0,1500),facecolor=\"blue\", edgecolor=\"black\", alpha=0.7)\n",
    "# 显示横轴标签\n",
    "plt.xlabel(\"长度区间\")\n",
    "# 显示纵轴标签\n",
    "plt.ylabel(\"样本数\")\n",
    "# 显示图标题\n",
    "plt.title(\"文本长度分布直方图\")\n",
    "plt.show()"
   ]
  },
  {
   "cell_type": "markdown",
   "metadata": {},
   "source": [
    "# 标签分布"
   ]
  },
  {
   "cell_type": "code",
   "execution_count": null,
   "metadata": {},
   "outputs": [],
   "source": [
    "df = pd.DataFrame()\n",
    "for file in os.listdir('./round1_train/train'):\n",
    "    if not file.endswith(\".ann\"):  \n",
    "        pass\n",
    "    else:\n",
    "        dta = pd.read_csv('./round1_train/train/'+file, sep='\\t', names=['id','entityInfo','entity'])\n",
    "        dta['category'] = dta['entityInfo'].apply(lambda x:x.split(' ')[0])\n",
    "        dta['pe1'] = dta['entityInfo'].apply(lambda x:x.split(' ')[1]).astype(int)\n",
    "        dta['pe2'] = dta['entityInfo'].apply(lambda x:x.split(' ')[2]).astype(int)\n",
    "        dta = dta[['id','entity','category','pe1','pe2']]       \n",
    "        df = pd.concat([df,dta])\n",
    "\n",
    "            "
   ]
  },
  {
   "cell_type": "code",
   "execution_count": null,
   "metadata": {},
   "outputs": [],
   "source": [
    "df.groupby(\"category\").count().reset_index()[['category','id']].sort_values(by='id',ascending=False)"
   ]
  },
  {
   "cell_type": "code",
   "execution_count": null,
   "metadata": {},
   "outputs": [],
   "source": [
    "df.groupby(\"entity\").count().reset_index()[['entity','id']].sort_values(by='id',ascending=False)"
   ]
  },
  {
   "cell_type": "markdown",
   "metadata": {},
   "source": [
    "# 测试样本分析"
   ]
  },
  {
   "cell_type": "code",
   "execution_count": null,
   "metadata": {},
   "outputs": [],
   "source": [
    "content_length = []\n",
    "for file in os.listdir('./round1_test/chusai_xuanshou/'):\n",
    "    if not file.endswith(\".txt\"):  \n",
    "        pass\n",
    "    else:\n",
    "        with codecs.open('./round1_test/chusai_xuanshou/'+file, \"r\", encoding=\"utf-8\") as f:\n",
    "            content_str = f.read()\n",
    "            content_length.append(len(content_str))\n",
    "\n",
    "            "
   ]
  },
  {
   "cell_type": "code",
   "execution_count": null,
   "metadata": {},
   "outputs": [],
   "source": [
    "content_length = pd.Series(content_length)"
   ]
  },
  {
   "cell_type": "code",
   "execution_count": null,
   "metadata": {},
   "outputs": [],
   "source": [
    "content_length[content_length>500].shape"
   ]
  },
  {
   "cell_type": "code",
   "execution_count": null,
   "metadata": {},
   "outputs": [],
   "source": [
    "content_length[content_length>500]"
   ]
  },
  {
   "cell_type": "code",
   "execution_count": null,
   "metadata": {},
   "outputs": [],
   "source": [
    "import matplotlib.pyplot as plt\n",
    "import numpy as np\n",
    "import matplotlib\n",
    "\n",
    "# 设置matplotlib正常显示中文和负号\n",
    "matplotlib.rcParams['font.sans-serif']=['SimHei']   # 用黑体显示中文\n",
    "matplotlib.rcParams['axes.unicode_minus']=False     # 正常显示负号\n",
    "plt.figure(figsize=(10,5))\n",
    "plt.hist(content_length, bins=20, range=(0,1500),facecolor=\"blue\", edgecolor=\"black\", alpha=0.7)\n",
    "# 显示横轴标签\n",
    "plt.xlabel(\"长度区间\")\n",
    "# 显示纵轴标签\n",
    "plt.ylabel(\"样本数\")\n",
    "# 显示图标题\n",
    "plt.title(\"文本长度分布直方图\")\n",
    "plt.show()"
   ]
  },
  {
   "cell_type": "markdown",
   "metadata": {},
   "source": [
    "# 难点分析\n",
    "- 数据量少\n",
    "- 标签数据分布不平衡\n",
    "- 领域专业性较强\n",
    "- 文本长度较长"
   ]
  },
  {
   "cell_type": "code",
   "execution_count": null,
   "metadata": {},
   "outputs": [],
   "source": []
  }
 ],
 "metadata": {
  "kernelspec": {
   "display_name": "Python 3",
   "language": "python",
   "name": "python3"
  },
  "language_info": {
   "codemirror_mode": {
    "name": "ipython",
    "version": 3
   },
   "file_extension": ".py",
   "mimetype": "text/x-python",
   "name": "python",
   "nbconvert_exporter": "python",
   "pygments_lexer": "ipython3",
   "version": "3.7.9"
  }
 },
 "nbformat": 4,
 "nbformat_minor": 4
}
