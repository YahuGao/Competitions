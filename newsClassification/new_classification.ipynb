{
 "cells": [
  {
   "cell_type": "code",
   "execution_count": 18,
   "metadata": {
    "collapsed": false
   },
   "outputs": [],
   "source": [
    "import os\n",
    "import pandas as pd\n",
    "import numpy as np\n",
    "from pickle import dump, load\n",
    "\n",
    "import torch\n",
    "import torch.nn as nn"
   ]
  },
  {
   "cell_type": "code",
   "execution_count": 19,
   "metadata": {
    "collapsed": false
   },
   "outputs": [],
   "source": [
    "# 读取数据, 观察数据格式, 文本内容, 进行数据清洗, 提取特征\n",
    "def read_data(filename):\n",
    "    df = pd.read_csv(filename, encoding='utf-8', sep='\\t')\n",
    "    return df"
   ]
  },
  {
   "cell_type": "code",
   "execution_count": 20,
   "metadata": {
    "collapsed": false
   },
   "outputs": [],
   "source": [
    "def get_train():\n",
    "    train_processed = './data/train_processed.csv'\n",
    "    if os.path.exists(train_processed) and os.path.isfile(train_processed):\n",
    "        df_train = read_data(train_processed)\n",
    "    else:\n",
    "        train_data = './data/train_set.csv'\n",
    "        df_train = read_data(train_data)\n",
    "        # 获取每条样本的长度\n",
    "        df_train.loc[:,'text_len'] = df_train.text.apply(lambda x: len(x.split()))\n",
    "        df_train.to_csv(train_processed, sep='\\t')\n",
    "\n",
    "    return df_train"
   ]
  },
  {
   "cell_type": "code",
   "execution_count": 21,
   "metadata": {
    "collapsed": false
   },
   "outputs": [],
   "source": [
    "df_train = get_train()\n",
    "test_data = './data/test_a.csv'\n",
    "df_test = read_data(test_data)"
   ]
  },
  {
   "cell_type": "code",
   "execution_count": 22,
   "metadata": {
    "collapsed": false
   },
   "outputs": [
    {
     "data": {
      "text/plain": [
       "Index(['label', 'text', 'text_len'], dtype='object')"
      ]
     },
     "execution_count": 22,
     "metadata": {},
     "output_type": "execute_result"
    }
   ],
   "source": [
    "df_train.columns"
   ]
  },
  {
   "cell_type": "code",
   "execution_count": 23,
   "metadata": {
    "collapsed": false
   },
   "outputs": [],
   "source": [
    "x = df_train.loc[:,'text']\n"
   ]
  },
  {
   "cell_type": "markdown",
   "metadata": {
    "collapsed": false
   },
   "source": [
    "文本数据以被脱敏处理, 无法进行去停用词处理\n",
    "可进行的处理还有, 高频词处理, 逆文档词处理, 在这里先不进行此类处理\n",
    "首先构造一个简单的baseline"
   ]
  },
  {
   "cell_type": "code",
   "execution_count": 24,
   "metadata": {
    "collapsed": false
   },
   "outputs": [],
   "source": [
    "# 导入机器学习分类器必须的包\n",
    "from sklearn.feature_extraction.text import CountVectorizer, TfidfVectorizer\n",
    "from sklearn.naive_bayes import MultinomialNB\n",
    "from sklearn.svm import SVC\n",
    "from sklearn.model_selection import train_test_split\n",
    "\n",
    "# 导入f1-score结算器\n",
    "from sklearn.metrics import f1_score"
   ]
  },
  {
   "cell_type": "code",
   "execution_count": 25,
   "metadata": {
    "collapsed": false
   },
   "outputs": [],
   "source": [
    "# 获取机器学习分类器的输入和标签\n",
    "# sklearn中的特征提取类Countectorizer可以直接使用text列\n",
    "x = df_train.text.values.tolist()\n",
    "y = df_train.label.values.tolist()\n",
    "x_train, x_test, y_train, y_test = train_test_split(x, y, random_state=1234)"
   ]
  },
  {
   "cell_type": "code",
   "execution_count": 26,
   "metadata": {
    "collapsed": false
   },
   "outputs": [],
   "source": [
    "# 基于sklearn定义一个文本分类器,\n",
    "class text_classifier():\n",
    "    def __init__(self, classifier=MultinomialNB(),\n",
    "                vectorizer=CountVectorizer(analyzer='word',\n",
    "                            ngram_range=(1,4),\n",
    "                            max_features=20000)):\n",
    "        self.classifier = classifier\n",
    "        self.vectorizer = vectorizer\n",
    "    \n",
    "    def get_features(self, x):\n",
    "        # x is a list of words string splited by space \n",
    "        return self.vectorizer.transform(x)\n",
    "\n",
    "    def fit(self, x, y):\n",
    "        self.vectorizer.fit(x)\n",
    "        self.classifier.fit(self.get_features(x), y)\n",
    "\n",
    "    def predict(self, x):\n",
    "        return self.classifier.predict(self.get_features(x))\n",
    "    \n",
    "    def score(self, x, y):\n",
    "        return self.classifier.score(self.get_features(x), y)\n",
    "\n",
    "    def save_model(self, model_file):\n",
    "        with open(model_file, 'wb') as f:\n",
    "            dump((self.classifier, self.vectorizer), f)\n",
    "    \n",
    "    def load_model(self, model_file):\n",
    "        with open(model_file, 'rb') as f:\n",
    "            self.classifier, self.vectorizer = load(f)"
   ]
  },
  {
   "cell_type": "code",
   "execution_count": 27,
   "metadata": {
    "collapsed": false
   },
   "outputs": [],
   "source": [
    "# 使用默认的分类器朴素贝叶斯分类中的multinomialNB()和特征抽取工具\n",
    "classifier_NB = text_classifier()\n",
    "model_file = './data/multinomialNB.h5'\n",
    "if os.path.exists(model_file) and os.path.isfile(model_file):\n",
    "    classifier_NB.load_model(model_file)\n",
    "else:\n",
    "    classifier_NB.fit(x_train, y_train)\n",
    "    classifier_NB.save_model(model_file)"
   ]
  },
  {
   "cell_type": "code",
   "execution_count": 28,
   "metadata": {
    "collapsed": false
   },
   "outputs": [
    {
     "name": "stdout",
     "output_type": "stream",
     "text": [
      "0.8568\n",
      "0.8076463748567075\n",
      "0.8598682072412864\n"
     ]
    }
   ],
   "source": [
    "y_predict = classifier_NB.predict(x_test)\n",
    "print(f1_score(y_test, y_predict, average='micro'))\n",
    "print(f1_score(y_test, y_predict, average='macro'))\n",
    "print(f1_score(y_test, y_predict, average='weighted'))"
   ]
  },
  {
   "cell_type": "code",
   "execution_count": 29,
   "metadata": {
    "collapsed": false
   },
   "outputs": [],
   "source": [
    "# 使用SVM分类器和特征抽取工具\n",
    "classifier = SVC(kernel='linear')\n",
    "vectorizer = TfidfVectorizer(\n",
    "    analyzer='word',\n",
    "    ngram_range=(1,3),\n",
    "    max_features=20000)\n",
    "classifier_svc = text_classifier(classifier=classifier, vectorizer=vectorizer)\n",
    "model_svc = './data/svc.h5'\n",
    "if os.path.exists(model_file) and os.path.isfile(model_svc):\n",
    "    classifier_svc.load_model(model_svc)\n",
    "else:\n",
    "    classifier_svc.fit(x_train, y_train)\n",
    "    classifier_svc.save_model(model_svc)"
   ]
  },
  {
   "cell_type": "code",
   "execution_count": null,
   "metadata": {
    "collapsed": false
   },
   "outputs": [],
   "source": [
    "y_predict = classifier_svc.predict(x_test)\n",
    "print(f1_score(y_test, y_predict, average='micro'))\n",
    "print(f1_score(y_test, y_predict, average='macro'))\n",
    "print(f1_score(y_test, y_predict, average='weighted'))"
   ]
  }
 ],
 "metadata": {
  "kernelspec": {
   "argv": [
    "/home/ygao/anaconda3/bin/python",
    "-m",
    "ipykernel_launcher",
    "-f",
    "{connection_file}"
   ],
   "display_name": "Python 3",
   "env": null,
   "interrupt_mode": "signal",
   "language": "python",
   "metadata": null,
   "name": "python3"
  },
  "language_info": {
   "codemirror_mode": {
    "name": "ipython",
    "version": 3
   },
   "file_extension": ".py",
   "mimetype": "text/x-python",
   "name": "python",
   "nbconvert_exporter": "python",
   "pygments_lexer": "ipython3",
   "version": "3.7.6"
  },
  "name": "new_classification.ipynb"
 },
 "nbformat": 4,
 "nbformat_minor": 4
}
