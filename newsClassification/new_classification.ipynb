{
 "cells": [
  {
   "cell_type": "code",
   "execution_count": 1,
   "metadata": {
    "collapsed": false
   },
   "outputs": [],
   "source": [
    "import os\n",
    "import pandas as pd\n",
    "import numpy as np\n",
    "import matplotlib.pyplot as plt\n",
    "from pickle import dump, load\n",
    "\n",
    "import torch\n",
    "import torch.nn as nn"
   ]
  },
  {
   "cell_type": "code",
   "execution_count": 2,
   "metadata": {
    "collapsed": false
   },
   "outputs": [],
   "source": [
    "# 读取数据, 观察数据格式, 文本内容, 进行数据清洗, 提取特征\n",
    "def read_data(filename):\n",
    "    df = pd.read_csv(filename, encoding='utf-8', sep='\\t')\n",
    "    return df"
   ]
  },
  {
   "cell_type": "code",
   "execution_count": 3,
   "metadata": {
    "collapsed": false
   },
   "outputs": [],
   "source": [
    "def get_train():\n",
    "    train_processed = './data/train_processed.csv'\n",
    "    if os.path.exists(train_processed) and os.path.isfile(train_processed):\n",
    "        df_train = read_data(train_processed)\n",
    "    else:\n",
    "        train_data = './data/train_set.csv'\n",
    "        df_train = read_data(train_data)\n",
    "        # 获取每条样本的长度\n",
    "        df_train.loc[:,'text_len'] = df_train.text.apply(lambda x: len(x.split()))\n",
    "        df_train.to_csv(train_processed, sep='\\t')\n",
    "\n",
    "    return df_train"
   ]
  },
  {
   "cell_type": "code",
   "execution_count": 4,
   "metadata": {
    "collapsed": false
   },
   "outputs": [],
   "source": [
    "df_train = get_train()\n",
    "test_data = './data/test_a.csv'\n",
    "df_test = read_data(test_data)"
   ]
  },
  {
   "cell_type": "code",
   "execution_count": 5,
   "metadata": {
    "collapsed": false
   },
   "outputs": [
    {
     "data": {
      "text/plain": [
       "Index(['Unnamed: 0', 'label', 'text', 'text_len'], dtype='object')"
      ]
     },
     "execution_count": 5,
     "metadata": {},
     "output_type": "execute_result"
    }
   ],
   "source": [
    "df_train.columns"
   ]
  },
  {
   "cell_type": "markdown",
   "metadata": {
    "collapsed": false
   },
   "source": [
    "文本数据以被脱敏处理, 无法进行去停用词处理\n",
    "可进行的处理还有, 高频词处理, 逆文档词处理, 可以通过tf-idf对文本提取特征"
   ]
  },
  {
   "cell_type": "code",
   "execution_count": 6,
   "metadata": {
    "collapsed": false
   },
   "outputs": [],
   "source": [
    "# 导入机器学习分类器必须的包\n",
    "from sklearn.feature_extraction.text import TfidfVectorizer\n",
    "from sklearn.naive_bayes import MultinomialNB\n",
    "from sklearn.svm import SVC\n",
    "from sklearn.model_selection import train_test_split\n",
    "\n",
    "# 导入f1-score结算器\n",
    "from sklearn.metrics import f1_score"
   ]
  },
  {
   "cell_type": "code",
   "execution_count": 7,
   "metadata": {
    "collapsed": false
   },
   "outputs": [],
   "source": [
    "# 获取机器学习分类器的输入和标签\n",
    "# sklearn中的特征提取类Countectorizer可以直接使用text列\n",
    "x = df_train.text.values.tolist()\n",
    "y = df_train.label.values.tolist()\n",
    "x_train, x_val, y_train, y_val = train_test_split(x, y, random_state=1234)"
   ]
  },
  {
   "cell_type": "code",
   "execution_count": 8,
   "metadata": {
    "collapsed": false
   },
   "outputs": [
    {
     "name": "stdout",
     "output_type": "stream",
     "text": [
      "57921\n",
      "2\n"
     ]
    },
    {
     "data": {
      "text/plain": [
       "Text(0.5, 1.0, 'Histogram of char count')"
      ]
     },
     "execution_count": 8,
     "metadata": {},
     "output_type": "execute_result"
    },
    {
     "data": {
      "image/png": "[encoded data removed]",
      "text/plain": [
       "<Figure size 432x288 with 1 Axes>"
      ]
     },
     "metadata": {
      "needs_background": "light"
     },
     "output_type": "display_data"
    }
   ],
   "source": [
    "print(df_train.text_len.max())\n",
    "print(df_train.text_len.min())\n",
    "_ = plt.hist(df_train['text_len'], bins=200)\n",
    "plt.xlabel('Text char count')\n",
    "plt.title(\"Histogram of char count\")"
   ]
  },
  {
   "cell_type": "code",
   "execution_count": 9,
   "metadata": {
    "collapsed": false
   },
   "outputs": [],
   "source": [
    "# 基于sklearn定义一个文本分类器,\n",
    "class text_classifier():\n",
    "    def __init__(self, classifier=MultinomialNB(),\n",
    "                vectorizer=TfidfVectorizer(analyzer='word',\n",
    "                            ngram_range=(1,4),\n",
    "                            max_features=20000)):\n",
    "        self.classifier = classifier\n",
    "        self.vectorizer = vectorizer\n",
    "    \n",
    "    def get_features(self, x):\n",
    "        # x is a list of words string splited by space \n",
    "        return self.vectorizer.transform(x)\n",
    "\n",
    "    def fit(self, x, y):\n",
    "        self.vectorizer.fit(x)\n",
    "        self.classifier.fit(self.get_features(x), y)\n",
    "\n",
    "    def predict(self, x):\n",
    "        return self.classifier.predict(self.get_features(x))\n",
    "    \n",
    "    def score(self, x, y):\n",
    "        return self.classifier.score(self.get_features(x), y)\n",
    "\n",
    "    def save_model(self, model_file):\n",
    "        with open(model_file, 'wb') as f:\n",
    "            dump((self.classifier, self.vectorizer), f)\n",
    "    \n",
    "    def load_model(self, model_file):\n",
    "        with open(model_file, 'rb') as f:\n",
    "            self.classifier, self.vectorizer = load(f)"
   ]
  },
  {
   "cell_type": "code",
   "execution_count": 10,
   "metadata": {
    "collapsed": false
   },
   "outputs": [],
   "source": [
    "# 使用默认的分类器朴素贝叶斯分类中的multinomialNB()和特征抽取工具\n",
    "if False:\n",
    "    classifier_NB = text_classifier()\n",
    "    model_file = './data/multinomialNB.h5'\n",
    "    if os.path.exists(model_file) and os.path.isfile(model_file):\n",
    "        classifier_NB.load_model(model_file)\n",
    "    else:\n",
    "        classifier_NB.fit(x_train, y_train)\n",
    "        classifier_NB.save_model(model_file)\n",
    "    \n",
    "    y_predict = classifier_NB.predict(x_val)\n",
    "    print(f1_score(y_val, y_predict, average='micro'))\n",
    "    print(f1_score(y_val, y_predict, average='macro'))\n",
    "    print(f1_score(y_val, y_predict, average='weighted'))"
   ]
  },
  {
   "cell_type": "code",
   "execution_count": 16,
   "metadata": {
    "collapsed": false
   },
   "outputs": [],
   "source": [
    "# 使用SVM分类器和特征抽取工具\n",
    "# 制定kernel类型为linear,且设置根据每个类别的大小设置每一个类别的正则化系数\n",
    "classifier = SVC(kernel='linear', class_weight='balanced')\n",
    "vectorizer = TfidfVectorizer(\n",
    "    analyzer='word',\n",
    "    ngram_range=(1,3),\n",
    "    max_features=20000)\n",
    "classifier_svc = text_classifier(classifier=classifier, vectorizer=vectorizer)\n",
    "model_svc = './data/svc.h5'\n",
    "if os.path.exists(model_svc) and os.path.isfile(model_svc):\n",
    "    classifier_svc.load_model(model_svc)\n",
    "else:\n",
    "    classifier_svc.fit(x_train, y_train)\n",
    "    classifier_svc.save_model(model_svc)"
   ]
  },
  {
   "cell_type": "code",
   "execution_count": 17,
   "metadata": {
    "collapsed": false
   },
   "outputs": [
    {
     "name": "stdout",
     "output_type": "stream",
     "text": [
      "0.93798\n",
      "0.9252856977172146\n",
      "0.938384425613409\n"
     ]
    }
   ],
   "source": [
    "y_predict = classifier_svc.predict(x_val)\n",
    "print(f1_score(y_val, y_predict, average='micro'))\n",
    "print(f1_score(y_val, y_predict, average='macro'))\n",
    "print(f1_score(y_val, y_predict, average='weighted'))"
   ]
  },
  {
   "cell_type": "markdown",
   "metadata": {
    "collapsed": false
   },
   "source": [
    "从本地的测试结果来看SVM分类器的分类效果比朴素贝叶斯的要好上很多."
   ]
  },
  {
   "cell_type": "code",
   "execution_count": 18,
   "metadata": {
    "collapsed": false
   },
   "outputs": [],
   "source": [
    "y_predict = classifier_svc.predict(df_test.text.values.tolist())"
   ]
  },
  {
   "cell_type": "code",
   "execution_count": 19,
   "metadata": {
    "collapsed": false
   },
   "outputs": [],
   "source": [
    "submit = pd.Series(data=y_predict, name='label')"
   ]
  },
  {
   "cell_type": "code",
   "execution_count": 20,
   "metadata": {
    "collapsed": false
   },
   "outputs": [],
   "source": [
    "submit.to_csv('./data/submit.csv', index=False)"
   ]
  },
  {
   "cell_type": "markdown",
   "metadata": {
    "collapsed": false
   },
   "source": [
    "第一次提交SVM在test_a上的分类结果, f1_score是0.0724  \n",
    "按照类别在样本中的比重,设置正则化项系数C的值,  \n",
    "C: float, default=1.0  \n",
    "    Regularization parameter. The strength of the regularization is inversely proportional to C. Must be strictly positive. The penalty is a squared l2 penalty.  \n",
    "class_weight: dict or ‘balanced’, default=None  \n",
    "Set the parameter C of class i to class_weight[i]*C for SVC. If not given, all classes are supposed to have weight one. The “balanced” mode uses the values of y to automatically adjust weights inversely proportional to class frequencies in the input data as n_samples / (n_classes * np.bincount(y))  \n",
    "添加class_weight之后,在线测试f1_score为0.926"
   ]
  }
 ],
 "metadata": {
  "kernelspec": {
   "argv": [
    "/home/yahu/anaconda3/bin/python",
    "-m",
    "ipykernel_launcher",
    "-f",
    "{connection_file}"
   ],
   "display_name": "Python 3",
   "env": null,
   "interrupt_mode": "signal",
   "language": "python",
   "metadata": null,
   "name": "python3"
  },
  "language_info": {
   "codemirror_mode": {
    "name": "ipython",
    "version": 3
   },
   "file_extension": ".py",
   "mimetype": "text/x-python",
   "name": "python",
   "nbconvert_exporter": "python",
   "pygments_lexer": "ipython3",
   "version": "3.7.6"
  },
  "name": "new_classification.ipynb"
 },
 "nbformat": 4,
 "nbformat_minor": 4
}
