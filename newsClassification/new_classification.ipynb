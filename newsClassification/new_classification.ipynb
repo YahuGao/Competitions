{
 "cells": [
  {
   "cell_type": "code",
   "execution_count": null,
   "metadata": {
    "collapsed": false
   },
   "outputs": [],
   "source": [
    "import os\n",
    "import pandas as pd\n",
    "import numpy as np\n",
    "from pickle import dump, load"
   ]
  },
  {
   "cell_type": "code",
   "execution_count": null,
   "metadata": {
    "collapsed": false
   },
   "outputs": [],
   "source": [
    "# 读取数据, 观察数据格式, 文本内容, 进行数据清洗, 提取特征\n",
    "def read_data(filename):\n",
    "    df = pd.read_csv(filename, encoding='utf-8', sep='\\t')\n",
    "    return df"
   ]
  },
  {
   "cell_type": "code",
   "execution_count": null,
   "metadata": {
    "collapsed": false
   },
   "outputs": [],
   "source": [
    "train_data = './data/train_set.csv'\n",
    "test_data = './data/test_a.csv'\n",
    "df_train = read_data(train_data)\n",
    "df_test = read_data(test_data)"
   ]
  },
  {
   "cell_type": "markdown",
   "metadata": {
    "collapsed": false
   },
   "source": [
    "文本数据以被脱敏处理, 无法进行去停用词处理\n",
    "可进行的处理还有, 高频词处理, 逆文档词处理, 在这里先不进行此类处理\n",
    "首先构造一个简单的baseline"
   ]
  },
  {
   "cell_type": "code",
   "execution_count": null,
   "metadata": {
    "collapsed": false
   },
   "outputs": [],
   "source": [
    "# 导入机器学习分类器必须的包\n",
    "from sklearn.feature_extraction.text import CountVectorizer\n",
    "from sklearn.naive_bayes import MultinomialNB\n",
    "from sklearn.model_selection import train_test_split"
   ]
  },
  {
   "cell_type": "code",
   "execution_count": null,
   "metadata": {
    "collapsed": false
   },
   "outputs": [],
   "source": [
    "# 获取机器学习分类器的输入和标签\n",
    "# sklearn中的特征提取类Countectorizer可以直接使用text列\n",
    "x = df_train.text.values.tolist()\n",
    "y = df_train.label.values.tolist()\n",
    "x_train, x_test, y_train, y_test = train_test_split(x, y, random_state=1234)"
   ]
  },
  {
   "cell_type": "code",
   "execution_count": null,
   "metadata": {
    "collapsed": false
   },
   "outputs": [],
   "source": [
    "# 基于sklearn定义一个文本分类器,\n",
    "class text_classifier():\n",
    "    def __init__(self, classifier=MultinomialNB(),\n",
    "                vectorizer=CountVectorizer(analyzer='word',\n",
    "                            ngram_range=(1,4),\n",
    "                            max_features=20000)):\n",
    "        self.classifier = classifier\n",
    "        self.vectorizer = vectorizer\n",
    "    \n",
    "    def get_features(self, x):\n",
    "        # x is a list of words string splited by space \n",
    "        return self.vectorizer.transform(x)\n",
    "\n",
    "    def fit(self, x, y):\n",
    "        self.vectorizer.fit(x)\n",
    "        self.classifier.fit(self.get_features(x), y)\n",
    "\n",
    "    def predict(self, x):\n",
    "        return self.classifier.predict(self.get_features([x]))\n",
    "    \n",
    "    def score(self, x, y):\n",
    "        return self.classifier.score(self.get_features(x), y)\n",
    "\n",
    "    def save_model(self, model_file):\n",
    "        with open(model_file, 'wb') as f:\n",
    "            dump((self.classifier, self.vectorizer), f)\n",
    "    \n",
    "    def load_model(self, model_file):\n",
    "        with open(model_file, 'rb') as f:\n",
    "            self.classifier, self.vectorizer = load(f)"
   ]
  },
  {
   "cell_type": "code",
   "execution_count": null,
   "metadata": {
    "collapsed": false
   },
   "outputs": [],
   "source": [
    "# 使用默认的分类器朴素贝叶斯分类中的multinomialNB()和特征抽取工具\n",
    "classifier = text_classifier()\n",
    "model_file = './data/multinomialNB.h5'\n",
    "if os.path.exists(model_file) and os.path.isfile(model_file):\n",
    "    classifier.load_model(model_file)\n",
    "else:\n",
    "    classifier.fit(x_train, y_train)\n",
    "    classifier.save_model(model_file)"
   ]
  },
  {
   "cell_type": "code",
   "execution_count": null,
   "metadata": {
    "collapsed": false
   },
   "outputs": [],
   "source": [
    "# x_test = df_test.text.values.tolist()\n",
    "# y_test = df_test.label.values.tolist()\n",
    "classifier.score(x_train, y_train)"
   ]
  }
 ],
 "metadata": {
  "kernelspec": {
   "argv": [
    "/home/ygao/anaconda3/bin/python",
    "-m",
    "ipykernel_launcher",
    "-f",
    "{connection_file}"
   ],
   "display_name": "Python 3",
   "env": null,
   "interrupt_mode": "signal",
   "language": "python",
   "metadata": null,
   "name": "python3"
  },
  "language_info": {
   "codemirror_mode": {
    "name": "ipython",
    "version": 3
   },
   "file_extension": ".py",
   "mimetype": "text/x-python",
   "name": "python",
   "nbconvert_exporter": "python",
   "pygments_lexer": "ipython3",
   "version": "3.7.6"
  },
  "name": "new_classification.ipynb"
 },
 "nbformat": 4,
 "nbformat_minor": 4
}
