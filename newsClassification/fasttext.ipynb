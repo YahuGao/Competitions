{
 "cells": [
  {
   "cell_type": "code",
   "execution_count": 2,
   "metadata": {},
   "outputs": [],
   "source": [
    "import pandas as pd\n",
    "import fasttext\n",
    "from sklearn.metrics import f1_score\n",
    "from sklearn.model_selection import train_test_split"
   ]
  },
  {
   "cell_type": "code",
   "execution_count": 3,
   "metadata": {},
   "outputs": [
    {
     "name": "stderr",
     "output_type": "stream",
     "text": [
      "/home/yahu/anaconda3/envs/ml/lib/python3.7/site-packages/ipykernel_launcher.py:5: SettingWithCopyWarning: \n",
      "A value is trying to be set on a copy of a slice from a DataFrame.\n",
      "Try using .loc[row_indexer,col_indexer] = value instead\n",
      "\n",
      "See the caveats in the documentation: https://pandas.pydata.org/pandas-docs/stable/user_guide/indexing.html#returning-a-view-versus-a-copy\n",
      "  \"\"\"\n"
     ]
    }
   ],
   "source": [
    "# 读取训练集并转换为FastText需要的格式\n",
    "df = pd.read_csv('./data/train_set.csv', sep='\\t')\n",
    "train_df = df.loc[:150000]\n",
    "val_df = df.loc[150000:]\n",
    "train_df['label_ft'] = '__label__' + train_df['label'].astype(str)\n",
    "train_df.to_csv('./data/train_fasttext.csv', index=None, header=None, sep='\\t')"
   ]
  },
  {
   "cell_type": "code",
   "execution_count": 4,
   "metadata": {},
   "outputs": [],
   "source": [
    "# 训练模型\n",
    "model = fasttext.train_supervised('./data/train_fasttext.csv',  lr=1.0, wordNgrams=3,\n",
    "                                  verbose=2, minCount=1, epoch=50, loss=\"hs\")"
   ]
  },
  {
   "cell_type": "code",
   "execution_count": 7,
   "metadata": {},
   "outputs": [
    {
     "name": "stderr",
     "output_type": "stream",
     "text": [
      "/home/yahu/anaconda3/envs/ml/lib/python3.7/site-packages/ipykernel_launcher.py:1: SettingWithCopyWarning: \n",
      "A value is trying to be set on a copy of a slice from a DataFrame.\n",
      "Try using .loc[row_indexer,col_indexer] = value instead\n",
      "\n",
      "See the caveats in the documentation: https://pandas.pydata.org/pandas-docs/stable/user_guide/indexing.html#returning-a-view-versus-a-copy\n",
      "  \"\"\"Entry point for launching an IPython kernel.\n"
     ]
    },
    {
     "name": "stdout",
     "output_type": "stream",
     "text": [
      "0.8972339984915586\n"
     ]
    }
   ],
   "source": [
    "val_df['label_ft'] = '__label__' + val_df['label'].astype(str)\n",
    "val_pred = [model.predict(x)[0][0].split('__')[-1] for x in val_df['text']]\n",
    "print(f1_score(val_df['label'].values.astype(str), val_pred, average='macro'))"
   ]
  },
  {
   "cell_type": "markdown",
   "metadata": {},
   "source": [
    "fasttext模型拟合速度快， 效果也不错， 因此用其本地验证结果作为基准。\n",
    "其验证集上的f1-score为0.8972"
   ]
  },
  {
   "cell_type": "code",
   "execution_count": 8,
   "metadata": {},
   "outputs": [
    {
     "name": "stderr",
     "output_type": "stream",
     "text": [
      "/home/yahu/anaconda3/envs/ml/lib/python3.7/site-packages/numpy/core/numeric.py:2378: FutureWarning: elementwise comparison failed; returning scalar instead, but in the future will perform elementwise comparison\n",
      "  return bool(asarray(a1 == a2).all())\n"
     ]
    }
   ],
   "source": [
    "# 预测测试集的标签\n",
    "test_df = pd.read_csv('./data/test_a.csv', sep='\\t')\n",
    "test_pred = [model.predict(x)[0][0].split('__')[-1] for x in test_df['text']]\n",
    "# 将测试结果保存到文件中\n",
    "test_pred = pd.Series(test_pred, name='label', dtype='int8')\n",
    "test_pred.to_csv('./data/submit_ft.csv', index=False)\n",
    "# 保存模型\n",
    "model.save_model('./data/fasttext.h5')"
   ]
  }
 ],
 "metadata": {
  "kernelspec": {
   "display_name": "Python 3",
   "language": "python",
   "name": "python3"
  },
  "language_info": {
   "codemirror_mode": {
    "name": "ipython",
    "version": 3
   },
   "file_extension": ".py",
   "mimetype": "text/x-python",
   "name": "python",
   "nbconvert_exporter": "python",
   "pygments_lexer": "ipython3",
   "version": "3.7.7"
  },
  "name": "fasttext.ipynb"
 },
 "nbformat": 4,
 "nbformat_minor": 4
}
