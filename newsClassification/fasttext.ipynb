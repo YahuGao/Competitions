{
 "cells": [
  {
   "cell_type": "code",
   "execution_count": 1,
   "metadata": {
    "collapsed": false
   },
   "outputs": [],
   "source": [
    "import pandas as pd\n",
    "import fasttext\n",
    "from sklearn.metrics import f1_score"
   ]
  },
  {
   "cell_type": "code",
   "execution_count": 2,
   "metadata": {
    "collapsed": false
   },
   "outputs": [],
   "source": [
    "# 转换为FastText需要的格式\n",
    "train_df = pd.read_csv('./data/train_set.csv', sep='\\t', nrows=15000)\n",
    "train_df['label_ft'] = '__label__' + train_df['label'].astype(str)\n",
    "train_df[['text','label_ft']].to_csv('./data/train_fasttext.csv', index=None, header=None, sep='\\t')"
   ]
  },
  {
   "cell_type": "code",
   "execution_count": 30,
   "metadata": {
    "collapsed": false
   },
   "outputs": [],
   "source": [
    "model = fasttext.train_supervised('./data/train_fasttext.csv',  lr=1.0, wordNgrams=3,\n",
    "                                  verbose=2, minCount=1, epoch=50, loss=\"hs\")"
   ]
  },
  {
   "cell_type": "code",
   "execution_count": 31,
   "metadata": {
    "collapsed": false
   },
   "outputs": [
    {
     "name": "stdout",
     "output_type": "stream",
     "text": [
      "0.9999321893792349\n"
     ]
    }
   ],
   "source": [
    "val_pred = [model.predict(x)[0][0].split('__')[-1] for x in train_df['text']]\n",
    "print(f1_score(train_df['label'].values.astype(str), val_pred, average='macro'))"
   ]
  },
  {
   "cell_type": "code",
   "execution_count": null,
   "metadata": {
    "collapsed": false
   },
   "outputs": [],
   "source": [
    "test_df = pd.read_csv('./data/test_a.csv', sep='\\t')\n",
    "test_pred = [model.predict(x)[0][0].split('__')[-1] for x in test_df['text']]"
   ]
  },
  {
   "cell_type": "code",
   "execution_count": null,
   "metadata": {
    "collapsed": false
   },
   "outputs": [],
   "source": [
    "test_pred = pd.Series(test_pred, name='label', dtype='int8')\n",
    "test_pred.to_csv('./data/submit_ft.csv', index=False)"
   ]
  },
  {
   "cell_type": "code",
   "execution_count": 34,
   "metadata": {
    "collapsed": false
   },
   "outputs": [],
   "source": [
    "model.save_model('./data/fasttext.h5')"
   ]
  },
  {
   "cell_type": "markdown",
   "metadata": {
    "collapsed": false
   },
   "source": [
    "fasttext在本地的训练速度很快, 但是提交测试结果时,发现f_score只有0.8495\n",
    "推测原因是数据量不够大,导致泛化性能不佳, 暂时还没有好的优化思路."
   ]
  }
 ],
 "metadata": {
  "kernelspec": {
   "argv": [
    "/home/ygao/anaconda3/bin/python",
    "-m",
    "ipykernel_launcher",
    "-f",
    "{connection_file}"
   ],
   "display_name": "Python 3",
   "env": null,
   "interrupt_mode": "signal",
   "language": "python",
   "metadata": null,
   "name": "python3"
  },
  "name": "fasttext.ipynb"
 },
 "nbformat": 4,
 "nbformat_minor": 4
}
